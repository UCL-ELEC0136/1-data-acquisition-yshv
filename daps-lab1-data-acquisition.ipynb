{
 "cells": [
  {
   "cell_type": "markdown",
   "metadata": {
    "id": "jenv-YgSElT1"
   },
   "source": [
    "# Task 1: Small case scenario of dataset analysis"
   ]
  },
  {
   "cell_type": "markdown",
   "metadata": {
    "id": "pZ6YahZgAZvB"
   },
   "source": [
    "## 1.1 - Create a dataset (The Tate Collection)\n",
    "As a first example, we will create our own small dataset. In particular, the dataset will consist of 10 artists which are present in the Tate Collection along with the corresponding year of birth, year of death, biological gender and number of artworks.\n",
    "\n",
    "|          Name         | Gender |   Year_Birth  |   Year_Death  | N_works |\n",
    "|-----------------------|--------|---------------|---------------|---------|\n",
    "|     Beuys, Joseph     |  Male  |      1921\t |      1986     |   588   |\n",
    "|    Constable, John    |  Male  |      1776\t |      1837\t |   249   |\n",
    "|   Daniell, William    |  Male  |      1769\t |      1837\t |   612   |\n",
    "|   Forbes, Elizabeth   | Female |      1859\t |      1912\t |   120   |\n",
    "|     Flaxman, John     |  Male  |      1755\t |      1826\t |   287   |\n",
    "|    Phillips, Thomas   |  Male  |      1770\t |      1845\t |   274   |\n",
    "| Paolozzi, Sir Eduardo |  Male  |      1924\t |      2005\t |   385   |\n",
    "|     Schendel, Mira    | Female |      1919\t |      1988\t |    3    |\n",
    "|    Turner, William    |  Male  |      1775\t |      1851\t |  1861   |\n",
    "|      Warhol, Andy     |  Male  |      1928\t |      1987\t |   272   |\n"
   ]
  },
  {
   "cell_type": "markdown",
   "metadata": {
    "id": "TV1sgIOzAZvD"
   },
   "source": [
    "**_[TO DO]_**: Let's create a DataFrame named **TateDataset** with the information showed in the above table.\n",
    "\n",
    "**Note:** You can create arrays for each column and then build the DataFrame.\n",
    "Remember to import the required libraries!"
   ]
  },
  {
   "cell_type": "code",
   "execution_count": 1,
   "metadata": {
    "cellView": "form",
    "executionInfo": {
     "elapsed": 428,
     "status": "ok",
     "timestamp": 1603899361329,
     "user": {
      "displayName": "Sephora Madjiheurem",
      "photoUrl": "https://lh3.googleusercontent.com/a-/AOh14GgieP2Hh5x42748iuuSEnAl8BYCWGSmOzJ-ypgSaQ=s64",
      "userId": "05055971560005673839"
     },
     "user_tz": 0
    },
    "id": "NxkzhjIGAZvF"
   },
   "outputs": [],
   "source": [
    "# @title Imports\n",
    "import numpy as np\n",
    "import pandas as pd\n"
   ]
  },
  {
   "cell_type": "code",
   "execution_count": 2,
   "metadata": {
    "id": "FWsJFvTQB3hX"
   },
   "outputs": [],
   "source": [
    "### lmao no way am I manually entering data \n",
    "tate_dataset = pd.read_csv(\"tate_dataset.csv\")"
   ]
  },
  {
   "cell_type": "markdown",
   "metadata": {
    "id": "0P3DpT-VAZvO"
   },
   "source": [
    "## 1.2 - Data Acquisition (local file)\n",
    "\n",
    "Data acquisition is a process of loading and reading data from various sources. We will learn how to export and read data from a local file in different format using  **Pandas** package. \n",
    "\n",
    "A file format is a standardised way in which information is encoded to be stored in a file. Some examples of file formats are: CSV, XLSX, and PKL. \n",
    "\n",
    "Let's practice with some examples.\n",
    "\n",
    "### .CSV - Comma Separated Values\n",
    "\n",
    "CSV is one of the most popular spreadsheet file format. In this kind of file, data is stored in cells. Each cell is organized in rows and columns. A column in the spreadsheet file can have different types. \n",
    "\n",
    "Let us look at how to create a CSV file. We can export a DataFrame with the Pandas function `to_csv()`. The file will be saved in the same location of this notebook unless specified otherwise. We can name the file **TateData.csv**.\n",
    "\n",
    "**Note:** Once you have run the following cell, check the output file ."
   ]
  },
  {
   "cell_type": "code",
   "execution_count": 4,
   "metadata": {
    "id": "DcFThhwRAZvP"
   },
   "outputs": [],
   "source": [
    "tate_dataset.to_csv('tate_dataset.csv', index=False, header=True)"
   ]
  },
  {
   "cell_type": "markdown",
   "metadata": {
    "id": "54BZQJs8AZvU"
   },
   "source": [
    "To pull in the csv file, we will use the Pandas function `read_csv()`. We will import the previous file in a new DataFrame.\n",
    "\n",
    "**Note:**  Depending on where you save your notebooks, you may need to modify the location below."
   ]
  },
  {
   "cell_type": "code",
   "execution_count": 18,
   "metadata": {
    "id": "PcO3epU5AZvV"
   },
   "outputs": [],
   "source": [
    "tate_1 = pd.read_csv('tate_dataset.csv')\n",
    "tate_dataset = pd.read_csv('tate_dataset.csv')"
   ]
  },
  {
   "cell_type": "markdown",
   "metadata": {
    "id": "1CmXNd9jAZva"
   },
   "source": [
    "When we create the .CSV file, the only parameter we have used is **index**. \n",
    "\n",
    "**[TO DO]** What happens if we set the *index* parameter to True? And if you set also the parameter **header** to False?\n",
    "Try by yourself. "
   ]
  },
  {
   "cell_type": "code",
   "execution_count": 19,
   "metadata": {},
   "outputs": [
    {
     "output_type": "stream",
     "name": "stdout",
     "text": [
      "                    Name  Gender  Year_Birth  Year_Death  N_works\n0          Beuys, Joseph    Male        1921        1986      588\n1        Constable, John    Male        1776        1837      249\n2       Daniell, William    Male        1769        1837      612\n3      Forbes, Elizabeth  Female        1859        1912      120\n4          Flaxman, John    Male        1755        1826      287\n5       Phillips, Thomas    Male        1770        1845      274\n6  Paolozzi, Sir Eduardo    Male        1924        2005      385\n7         Schendel, Mira  Female        1919        1988        3\n8        Turner, William    Male        1775        1851     1861\n9           Warhol, Andy    Male        1928        1987      272\n"
     ]
    }
   ],
   "source": [
    "print(tate_dataset)"
   ]
  },
  {
   "cell_type": "code",
   "execution_count": 14,
   "metadata": {
    "id": "egR7HZLaAZvb"
   },
   "outputs": [],
   "source": [
    "### TODO\n"
   ]
  },
  {
   "cell_type": "markdown",
   "metadata": {
    "id": "0tHt7lPFAZvf"
   },
   "source": [
    "Delete the csv file now that we are done using it."
   ]
  },
  {
   "cell_type": "markdown",
   "metadata": {
    "id": "oQLf1Y_hAZvr"
   },
   "source": [
    "### pickle — Python object serialization\n",
    "\n",
    "This data format is Python-specific. This has the advantage that there are no restrictions imposed by external standards; however it means that non-Python programs may not be able to reconstruct pickled Python objects.\n",
    "\n"
   ]
  },
  {
   "cell_type": "code",
   "execution_count": 20,
   "metadata": {
    "id": "stKRPdBTAZvr"
   },
   "outputs": [],
   "source": [
    "import pickle\n",
    "\n",
    "tate_dataset.to_pickle('tate_dataset.pkl')\n"
   ]
  },
  {
   "cell_type": "code",
   "execution_count": 23,
   "metadata": {
    "id": "Rc7RsQeKAZvt"
   },
   "outputs": [
    {
     "output_type": "execute_result",
     "data": {
      "text/plain": [
       "                    Name  Gender  Year_Birth  Year_Death  N_works\n",
       "0          Beuys, Joseph    Male        1921        1986      588\n",
       "1        Constable, John    Male        1776        1837      249\n",
       "2       Daniell, William    Male        1769        1837      612\n",
       "3      Forbes, Elizabeth  Female        1859        1912      120\n",
       "4          Flaxman, John    Male        1755        1826      287\n",
       "5       Phillips, Thomas    Male        1770        1845      274\n",
       "6  Paolozzi, Sir Eduardo    Male        1924        2005      385\n",
       "7         Schendel, Mira  Female        1919        1988        3\n",
       "8        Turner, William    Male        1775        1851     1861\n",
       "9           Warhol, Andy    Male        1928        1987      272"
      ],
      "text/html": "<div>\n<style scoped>\n    .dataframe tbody tr th:only-of-type {\n        vertical-align: middle;\n    }\n\n    .dataframe tbody tr th {\n        vertical-align: top;\n    }\n\n    .dataframe thead th {\n        text-align: right;\n    }\n</style>\n<table border=\"1\" class=\"dataframe\">\n  <thead>\n    <tr style=\"text-align: right;\">\n      <th></th>\n      <th>Name</th>\n      <th>Gender</th>\n      <th>Year_Birth</th>\n      <th>Year_Death</th>\n      <th>N_works</th>\n    </tr>\n  </thead>\n  <tbody>\n    <tr>\n      <th>0</th>\n      <td>Beuys, Joseph</td>\n      <td>Male</td>\n      <td>1921</td>\n      <td>1986</td>\n      <td>588</td>\n    </tr>\n    <tr>\n      <th>1</th>\n      <td>Constable, John</td>\n      <td>Male</td>\n      <td>1776</td>\n      <td>1837</td>\n      <td>249</td>\n    </tr>\n    <tr>\n      <th>2</th>\n      <td>Daniell, William</td>\n      <td>Male</td>\n      <td>1769</td>\n      <td>1837</td>\n      <td>612</td>\n    </tr>\n    <tr>\n      <th>3</th>\n      <td>Forbes, Elizabeth</td>\n      <td>Female</td>\n      <td>1859</td>\n      <td>1912</td>\n      <td>120</td>\n    </tr>\n    <tr>\n      <th>4</th>\n      <td>Flaxman, John</td>\n      <td>Male</td>\n      <td>1755</td>\n      <td>1826</td>\n      <td>287</td>\n    </tr>\n    <tr>\n      <th>5</th>\n      <td>Phillips, Thomas</td>\n      <td>Male</td>\n      <td>1770</td>\n      <td>1845</td>\n      <td>274</td>\n    </tr>\n    <tr>\n      <th>6</th>\n      <td>Paolozzi, Sir Eduardo</td>\n      <td>Male</td>\n      <td>1924</td>\n      <td>2005</td>\n      <td>385</td>\n    </tr>\n    <tr>\n      <th>7</th>\n      <td>Schendel, Mira</td>\n      <td>Female</td>\n      <td>1919</td>\n      <td>1988</td>\n      <td>3</td>\n    </tr>\n    <tr>\n      <th>8</th>\n      <td>Turner, William</td>\n      <td>Male</td>\n      <td>1775</td>\n      <td>1851</td>\n      <td>1861</td>\n    </tr>\n    <tr>\n      <th>9</th>\n      <td>Warhol, Andy</td>\n      <td>Male</td>\n      <td>1928</td>\n      <td>1987</td>\n      <td>272</td>\n    </tr>\n  </tbody>\n</table>\n</div>"
     },
     "metadata": {},
     "execution_count": 23
    }
   ],
   "source": [
    "tate_2 = pd.read_pickle('tate_dataset.pkl')\n",
    "tate_2"
   ]
  },
  {
   "cell_type": "markdown",
   "metadata": {
    "id": "4vHSnaOQAZvv"
   },
   "source": [
    "## 1.3 - Look at the data\n",
    "\n",
    "Now we will simply have a look at the data and make sure it is clean. \n",
    "\n",
    "### Data type\n",
    "Let's check the data type of the imported variables and the original DataFrame."
   ]
  },
  {
   "cell_type": "code",
   "execution_count": 34,
   "metadata": {
    "id": "AV3eoT35AZvw"
   },
   "outputs": [
    {
     "output_type": "execute_result",
     "data": {
      "text/plain": [
       "Name          object\n",
       "Gender        object\n",
       "Year_Birth     int64\n",
       "Year_Death     int64\n",
       "N_works        int64\n",
       "dtype: object"
      ]
     },
     "metadata": {},
     "execution_count": 34
    }
   ],
   "source": [
    "# Check data type of the columns for Tate_1\n",
    "tate_1.dtypes"
   ]
  },
  {
   "cell_type": "code",
   "execution_count": 35,
   "metadata": {
    "id": "ACysmIDSAZvy"
   },
   "outputs": [
    {
     "output_type": "execute_result",
     "data": {
      "text/plain": [
       "Name          object\n",
       "Gender        object\n",
       "Year_Birth     int64\n",
       "Year_Death     int64\n",
       "N_works        int64\n",
       "dtype: object"
      ]
     },
     "metadata": {},
     "execution_count": 35
    }
   ],
   "source": [
    "# Check data type of the columns for TateDataset\n",
    "tate_dataset.dtypes"
   ]
  },
  {
   "cell_type": "markdown",
   "metadata": {
    "id": "T3q0dEk0AZv0"
   },
   "source": [
    "We can also display the values of a single column and check their data type as follow:"
   ]
  },
  {
   "cell_type": "code",
   "execution_count": 36,
   "metadata": {
    "id": "zfMt0x2lAZv0"
   },
   "outputs": [
    {
     "output_type": "execute_result",
     "data": {
      "text/plain": [
       "0      Male\n",
       "1      Male\n",
       "2      Male\n",
       "3    Female\n",
       "4      Male\n",
       "5      Male\n",
       "6      Male\n",
       "7    Female\n",
       "8      Male\n",
       "9      Male\n",
       "Name: Gender, dtype: object"
      ]
     },
     "metadata": {},
     "execution_count": 36
    }
   ],
   "source": [
    "tate_dataset['Gender']"
   ]
  },
  {
   "cell_type": "markdown",
   "metadata": {
    "id": "hympM9yTEuud"
   },
   "source": [
    "# Task 2: Application Programming Interfaces (APIs)"
   ]
  },
  {
   "cell_type": "markdown",
   "metadata": {
    "id": "vOGrvILtFv0K",
    "tags": []
   },
   "source": [
    "## 2.1 - Downloading climate data from the Internet\n",
    "\n",
    "We will now explore real world data, namely a dataset of climate information of 5 cities in Denmark between 1980-2018. The original raw-data was originally obtained from [National Climatic Data Center (NCDC)](https://www7.ncdc.noaa.gov/CDO/cdoselect.cmd).\n",
    "\n",
    "In particular, the selected cities in Denmark are:\n",
    "- Aalborg, \n",
    "- Aarhus, \n",
    "- Esbjerg, \n",
    "- Odense. \n",
    "- Roskilde\n",
    "\n",
    "In the following, we will download the dataset using an API instead of loading a local source file.\n",
    "\n",
    "### What is an API? \n",
    "Application Programming Interface (API) is a communication protocol between the user and the server (i.e., web server) that enables transmittion of data. The user making a request to an API server can download the desidered resources. \n",
    "\n",
    "### How to make a request in python?\n",
    "There are many different way to request data. \n",
    "In the following, we will use the package **urllib** that collects several modules for working with URLs.\n",
    "\n",
    "In particular, [urlib.request](https://docs.python.org/3/library/urllib.request.html#module-urllib.request) is a module for opening and reading URLs.\n"
   ]
  },
  {
   "cell_type": "markdown",
   "metadata": {
    "id": "DiwhudMrKQUP"
   },
   "source": [
    "### - Download climate data\n",
    "\n",
    "\n",
    "The following functions allow to download and store the dataset in a specific folder.\n",
    "\n",
    "How to use:\n",
    "\n",
    "- Set the source (i.e., URL) of the desidered dataset in `data_url`.\n",
    "- Set the `data_dir` variable with the local directory where to store the data.\n",
    "- Call `download_and_extract()` to download the dataset if it is not already located in the given data_dir.\n",
    "- Load the data in the interactive Python notebook so ic can be used in your scripts (you can use `load_original_data()`)."
   ]
  },
  {
   "cell_type": "code",
   "execution_count": 24,
   "metadata": {
    "cellView": "form",
    "id": "DjVqxHOLE6I4"
   },
   "outputs": [],
   "source": [
    "#@title Functions to download data \n",
    "########################################################################\n",
    "#\n",
    "# This file is a partially modified version of one of the TensorFlow Tutorials available at:\n",
    "#\n",
    "# https://github.com/Hvass-Labs/TensorFlow-Tutorials\n",
    "#\n",
    "# Published under the MIT License. See the file LICENSE for details.\n",
    "#\n",
    "# Copyright 2018 by Magnus Erik Hvass Pedersen\n",
    "#\n",
    "########################################################################\n",
    "\n",
    "import sys\n",
    "import os\n",
    "import urllib.request\n",
    "import tarfile\n",
    "import zipfile\n",
    "\n",
    "\n",
    "\n",
    "def _print_download_progress(count, block_size, total_size):\n",
    "    \"\"\"\n",
    "    Function used for printing the download progress.\n",
    "    Used as a call-back function in maybe_download_and_extract().\n",
    "    \"\"\"\n",
    "\n",
    "    # Percentage completion.\n",
    "    pct_complete = float(count * block_size) / total_size\n",
    "\n",
    "    # Limit it because rounding errors may cause it to exceed 100%.\n",
    "    pct_complete = min(1.0, pct_complete)\n",
    "\n",
    "    # Status-message. Note the \\r which means the line should overwrite itself.\n",
    "    msg = \"\\r- Download progress: {0:.1%}\".format(pct_complete)\n",
    "\n",
    "    # Print it.\n",
    "    sys.stdout.write(msg)\n",
    "    sys.stdout.flush()\n",
    "\n",
    "\n",
    "def download(base_url, filename, download_dir):\n",
    "    \"\"\"\n",
    "    Download the given file if it does not already exist in the download_dir.\n",
    "    :param base_url: The internet URL without the filename.\n",
    "    :param filename: The filename that will be added to the base_url.\n",
    "    :param download_dir: Local directory for storing the file.\n",
    "    \"\"\"\n",
    "\n",
    "    # Path for local file.\n",
    "    save_path = os.path.join(download_dir, filename)\n",
    "\n",
    "    # Check if the file already exists, otherwise we need to download it now.\n",
    "    if not os.path.exists(save_path):\n",
    "        # Check if the download directory exists, otherwise create it.\n",
    "        if not os.path.exists(download_dir):\n",
    "            os.makedirs(download_dir)\n",
    "\n",
    "        print(\"Downloading\", filename, \"...\")\n",
    "\n",
    "        # Download the file from the internet.\n",
    "        url = base_url + filename\n",
    "        file_path, _ = urllib.request.urlretrieve(url=url,\n",
    "                                                  filename=save_path,\n",
    "                                                  reporthook=_print_download_progress)\n",
    "\n",
    "        print(\" Done!\")\n",
    "\n",
    "\n",
    "def download_and_extract(url, download_dir):\n",
    "    \"\"\"\n",
    "    Download and extract the data if it doesn't already exist.\n",
    "    Assumes the url is a tar-ball file.\n",
    "    :param url:\n",
    "        Internet URL for the tar-file to download.\n",
    "    :param download_dir:\n",
    "        Directory where the downloaded file is saved.\n",
    "    \"\"\"\n",
    "\n",
    "    # Filename for saving the file downloaded from the internet.\n",
    "    # Use the filename from the URL and add it to the download_dir.\n",
    "    filename = url.split('/')[-1]\n",
    "    file_path = os.path.join(download_dir, filename)\n",
    "\n",
    "    # Check if the file already exists.\n",
    "    # If it exists then we assume it has also been extracted,\n",
    "    # otherwise we need to download and extract it now.\n",
    "    if not os.path.exists(file_path):\n",
    "        # Check if the download directory exists, otherwise create it.\n",
    "        if not os.path.exists(download_dir):\n",
    "            os.makedirs(download_dir)\n",
    "\n",
    "        # Download the file from the internet.\n",
    "        file_path, _ = urllib.request.urlretrieve(url=url,\n",
    "                                                  filename=file_path,\n",
    "                                                  reporthook=_print_download_progress)\n",
    "\n",
    "        print()\n",
    "        print(\"Download finished. Extracting files.\")\n",
    "\n",
    "        if file_path.endswith(\".zip\"):\n",
    "            # Unpack the zip-file.\n",
    "            zipfile.ZipFile(file=file_path, mode=\"r\").extractall(download_dir)\n",
    "        elif file_path.endswith((\".tar.gz\", \".tgz\")):\n",
    "            # Unpack the tar-ball.\n",
    "            tarfile.open(name=file_path, mode=\"r:gz\").extractall(download_dir)\n",
    "\n",
    "        print(\"Done.\")\n",
    "    else:\n",
    "        print(\"Data has apparently already been downloaded and unpacked.\")\n",
    "        "
   ]
  },
  {
   "cell_type": "markdown",
   "metadata": {
    "id": "jhAOVRKTclRR"
   },
   "source": [
    "First, we define where we want to download the dataset (you are free to choose another directory) and the URL of the dataset to be downloaded."
   ]
  },
  {
   "cell_type": "code",
   "execution_count": 25,
   "metadata": {
    "id": "mPl5lGC_cjRa"
   },
   "outputs": [],
   "source": [
    "# Location of the dataset on the internet.\n",
    "data_url = \"https://github.com/Hvass-Labs/weather-denmark/raw/master/weather-denmark.tar.gz\"\n",
    "\n",
    "# Local directory where you want to download and save the dataset.\n",
    "data_dir = \"weather-data/\""
   ]
  },
  {
   "cell_type": "markdown",
   "metadata": {
    "id": "_fUv_1U7AGIS"
   },
   "source": [
    "Now, we can download the dataset into the chosen local directory"
   ]
  },
  {
   "cell_type": "code",
   "execution_count": 26,
   "metadata": {
    "id": "6P4iL6WfAGIT"
   },
   "outputs": [
    {
     "output_type": "stream",
     "name": "stdout",
     "text": [
      "- Download progress: 100.0%\n",
      "Download finished. Extracting files.\n",
      "Done.\n"
     ]
    }
   ],
   "source": [
    "download_and_extract(url=data_url, download_dir=data_dir)"
   ]
  },
  {
   "cell_type": "markdown",
   "metadata": {
    "id": "sLC9mO_RAGIY"
   },
   "source": [
    "**[TO DO]:** Check the local folder? In which format the dataset has been downloaded?\n",
    "\n",
    "**[TO DO]:** Select a format and load the dataset ."
   ]
  },
  {
   "cell_type": "code",
   "execution_count": 28,
   "metadata": {
    "id": "59A_u_4CAGIY"
   },
   "outputs": [
    {
     "output_type": "execute_result",
     "data": {
      "text/plain": [
       "             City             DateTime  Temp  Pressure  WindSpeed  WindDir\n",
       "0         Aalborg  1980-03-01 00:00:00   5.0    1008.1       11.3    290.0\n",
       "1         Aalborg  1980-03-01 00:20:00   4.0       NaN        9.2    270.0\n",
       "2         Aalborg  1980-03-01 00:50:00   4.0       NaN        9.2    280.0\n",
       "3         Aalborg  1980-03-01 01:20:00   4.0       NaN        9.2    280.0\n",
       "4         Aalborg  1980-03-01 01:50:00   4.0       NaN        8.7    270.0\n",
       "...           ...                  ...   ...       ...        ...      ...\n",
       "2918145  Roskilde  2018-03-01 22:20:00  -5.0       NaN        5.1     70.0\n",
       "2918146  Roskilde  2018-03-01 22:50:00  -5.0       NaN        4.1     70.0\n",
       "2918147  Roskilde  2018-03-01 23:00:00  -5.3    1018.6        4.1     60.0\n",
       "2918148  Roskilde  2018-03-01 23:20:00  -5.0       NaN        3.6     60.0\n",
       "2918149  Roskilde  2018-03-01 23:50:00  -5.0       NaN        3.6     60.0\n",
       "\n",
       "[2918150 rows x 6 columns]"
      ],
      "text/html": "<div>\n<style scoped>\n    .dataframe tbody tr th:only-of-type {\n        vertical-align: middle;\n    }\n\n    .dataframe tbody tr th {\n        vertical-align: top;\n    }\n\n    .dataframe thead th {\n        text-align: right;\n    }\n</style>\n<table border=\"1\" class=\"dataframe\">\n  <thead>\n    <tr style=\"text-align: right;\">\n      <th></th>\n      <th>City</th>\n      <th>DateTime</th>\n      <th>Temp</th>\n      <th>Pressure</th>\n      <th>WindSpeed</th>\n      <th>WindDir</th>\n    </tr>\n  </thead>\n  <tbody>\n    <tr>\n      <th>0</th>\n      <td>Aalborg</td>\n      <td>1980-03-01 00:00:00</td>\n      <td>5.0</td>\n      <td>1008.1</td>\n      <td>11.3</td>\n      <td>290.0</td>\n    </tr>\n    <tr>\n      <th>1</th>\n      <td>Aalborg</td>\n      <td>1980-03-01 00:20:00</td>\n      <td>4.0</td>\n      <td>NaN</td>\n      <td>9.2</td>\n      <td>270.0</td>\n    </tr>\n    <tr>\n      <th>2</th>\n      <td>Aalborg</td>\n      <td>1980-03-01 00:50:00</td>\n      <td>4.0</td>\n      <td>NaN</td>\n      <td>9.2</td>\n      <td>280.0</td>\n    </tr>\n    <tr>\n      <th>3</th>\n      <td>Aalborg</td>\n      <td>1980-03-01 01:20:00</td>\n      <td>4.0</td>\n      <td>NaN</td>\n      <td>9.2</td>\n      <td>280.0</td>\n    </tr>\n    <tr>\n      <th>4</th>\n      <td>Aalborg</td>\n      <td>1980-03-01 01:50:00</td>\n      <td>4.0</td>\n      <td>NaN</td>\n      <td>8.7</td>\n      <td>270.0</td>\n    </tr>\n    <tr>\n      <th>...</th>\n      <td>...</td>\n      <td>...</td>\n      <td>...</td>\n      <td>...</td>\n      <td>...</td>\n      <td>...</td>\n    </tr>\n    <tr>\n      <th>2918145</th>\n      <td>Roskilde</td>\n      <td>2018-03-01 22:20:00</td>\n      <td>-5.0</td>\n      <td>NaN</td>\n      <td>5.1</td>\n      <td>70.0</td>\n    </tr>\n    <tr>\n      <th>2918146</th>\n      <td>Roskilde</td>\n      <td>2018-03-01 22:50:00</td>\n      <td>-5.0</td>\n      <td>NaN</td>\n      <td>4.1</td>\n      <td>70.0</td>\n    </tr>\n    <tr>\n      <th>2918147</th>\n      <td>Roskilde</td>\n      <td>2018-03-01 23:00:00</td>\n      <td>-5.3</td>\n      <td>1018.6</td>\n      <td>4.1</td>\n      <td>60.0</td>\n    </tr>\n    <tr>\n      <th>2918148</th>\n      <td>Roskilde</td>\n      <td>2018-03-01 23:20:00</td>\n      <td>-5.0</td>\n      <td>NaN</td>\n      <td>3.6</td>\n      <td>60.0</td>\n    </tr>\n    <tr>\n      <th>2918149</th>\n      <td>Roskilde</td>\n      <td>2018-03-01 23:50:00</td>\n      <td>-5.0</td>\n      <td>NaN</td>\n      <td>3.6</td>\n      <td>60.0</td>\n    </tr>\n  </tbody>\n</table>\n<p>2918150 rows × 6 columns</p>\n</div>"
     },
     "metadata": {},
     "execution_count": 28
    }
   ],
   "source": [
    "pd.read_csv(\"weather-data/weather-denmark.csv\")\n"
   ]
  },
  {
   "cell_type": "code",
   "execution_count": null,
   "metadata": {
    "id": "36clsIOhq_CR"
   },
   "outputs": [],
   "source": [
    "### TODO"
   ]
  },
  {
   "cell_type": "markdown",
   "metadata": {
    "id": "MN4_qGC4AGIc"
   },
   "source": [
    "**More advanced solution for loading dataset**:\n",
    "\n",
    "In this case, the dataset was downloaded in two different formats. \n",
    "We can define the path where the files have been stored as follows:\n",
    "- **path_original_data_pickle( )** is the location of the original data in pickle format\n",
    "- **path_original_data_csv( )** is the location the original data in .csv"
   ]
  },
  {
   "cell_type": "code",
   "execution_count": 29,
   "metadata": {
    "id": "NO8jevNRAGIc"
   },
   "outputs": [],
   "source": [
    "def path_original_data_pickle():\n",
    "    return os.path.join(data_dir, \"weather-denmark.pkl\")\n",
    "\n",
    "def path_original_data_csv():\n",
    "    return os.path.join(data_dir, \"weather-denmark.csv\")"
   ]
  },
  {
   "cell_type": "markdown",
   "metadata": {
    "id": "KoNQaCyAAGIg"
   },
   "source": [
    "Now we can load the data in pickle format through the following function:"
   ]
  },
  {
   "cell_type": "code",
   "execution_count": 30,
   "metadata": {
    "id": "JHdwG7c6AGIh"
   },
   "outputs": [],
   "source": [
    "def load_original_data():\n",
    "    return pd.read_pickle(path_original_data_pickle())"
   ]
  },
  {
   "cell_type": "code",
   "execution_count": 31,
   "metadata": {
    "id": "0-XPffh3AGIj"
   },
   "outputs": [
    {
     "output_type": "execute_result",
     "data": {
      "text/plain": [
       "                              Temp  Pressure  WindSpeed  WindDir\n",
       "City     DateTime                                               \n",
       "Aalborg  1980-03-01 00:00:00   5.0    1008.1       11.3    290.0\n",
       "         1980-03-01 00:20:00   4.0       NaN        9.2    270.0\n",
       "         1980-03-01 00:50:00   4.0       NaN        9.2    280.0\n",
       "         1980-03-01 01:20:00   4.0       NaN        9.2    280.0\n",
       "         1980-03-01 01:50:00   4.0       NaN        8.7    270.0\n",
       "...                            ...       ...        ...      ...\n",
       "Roskilde 2018-03-01 22:20:00  -5.0       NaN        5.1     70.0\n",
       "         2018-03-01 22:50:00  -5.0       NaN        4.1     70.0\n",
       "         2018-03-01 23:00:00  -5.3    1018.6        4.1     60.0\n",
       "         2018-03-01 23:20:00  -5.0       NaN        3.6     60.0\n",
       "         2018-03-01 23:50:00  -5.0       NaN        3.6     60.0\n",
       "\n",
       "[2918150 rows x 4 columns]"
      ],
      "text/html": "<div>\n<style scoped>\n    .dataframe tbody tr th:only-of-type {\n        vertical-align: middle;\n    }\n\n    .dataframe tbody tr th {\n        vertical-align: top;\n    }\n\n    .dataframe thead th {\n        text-align: right;\n    }\n</style>\n<table border=\"1\" class=\"dataframe\">\n  <thead>\n    <tr style=\"text-align: right;\">\n      <th></th>\n      <th></th>\n      <th>Temp</th>\n      <th>Pressure</th>\n      <th>WindSpeed</th>\n      <th>WindDir</th>\n    </tr>\n    <tr>\n      <th>City</th>\n      <th>DateTime</th>\n      <th></th>\n      <th></th>\n      <th></th>\n      <th></th>\n    </tr>\n  </thead>\n  <tbody>\n    <tr>\n      <th rowspan=\"5\" valign=\"top\">Aalborg</th>\n      <th>1980-03-01 00:00:00</th>\n      <td>5.0</td>\n      <td>1008.1</td>\n      <td>11.3</td>\n      <td>290.0</td>\n    </tr>\n    <tr>\n      <th>1980-03-01 00:20:00</th>\n      <td>4.0</td>\n      <td>NaN</td>\n      <td>9.2</td>\n      <td>270.0</td>\n    </tr>\n    <tr>\n      <th>1980-03-01 00:50:00</th>\n      <td>4.0</td>\n      <td>NaN</td>\n      <td>9.2</td>\n      <td>280.0</td>\n    </tr>\n    <tr>\n      <th>1980-03-01 01:20:00</th>\n      <td>4.0</td>\n      <td>NaN</td>\n      <td>9.2</td>\n      <td>280.0</td>\n    </tr>\n    <tr>\n      <th>1980-03-01 01:50:00</th>\n      <td>4.0</td>\n      <td>NaN</td>\n      <td>8.7</td>\n      <td>270.0</td>\n    </tr>\n    <tr>\n      <th>...</th>\n      <th>...</th>\n      <td>...</td>\n      <td>...</td>\n      <td>...</td>\n      <td>...</td>\n    </tr>\n    <tr>\n      <th rowspan=\"5\" valign=\"top\">Roskilde</th>\n      <th>2018-03-01 22:20:00</th>\n      <td>-5.0</td>\n      <td>NaN</td>\n      <td>5.1</td>\n      <td>70.0</td>\n    </tr>\n    <tr>\n      <th>2018-03-01 22:50:00</th>\n      <td>-5.0</td>\n      <td>NaN</td>\n      <td>4.1</td>\n      <td>70.0</td>\n    </tr>\n    <tr>\n      <th>2018-03-01 23:00:00</th>\n      <td>-5.3</td>\n      <td>1018.6</td>\n      <td>4.1</td>\n      <td>60.0</td>\n    </tr>\n    <tr>\n      <th>2018-03-01 23:20:00</th>\n      <td>-5.0</td>\n      <td>NaN</td>\n      <td>3.6</td>\n      <td>60.0</td>\n    </tr>\n    <tr>\n      <th>2018-03-01 23:50:00</th>\n      <td>-5.0</td>\n      <td>NaN</td>\n      <td>3.6</td>\n      <td>60.0</td>\n    </tr>\n  </tbody>\n</table>\n<p>2918150 rows × 4 columns</p>\n</div>"
     },
     "metadata": {},
     "execution_count": 31
    }
   ],
   "source": [
    "df = load_original_data()\n",
    "df"
   ]
  },
  {
   "cell_type": "markdown",
   "metadata": {
    "id": "DMCJQr_SAGIm"
   },
   "source": [
    "### - Undestanding the data\n",
    "\n",
    "**_[TO DO]_**: Have a quick overview of the downloaded dataset. \n",
    "In particular, focus on:\n",
    "\n",
    "- Understanding the variables contained in the dataframe\n",
    "- Check the DateTime for 2 cities"
   ]
  },
  {
   "cell_type": "code",
   "execution_count": 53,
   "metadata": {
    "id": "-_dXNZFqd6rk"
   },
   "outputs": [
    {
     "output_type": "execute_result",
     "data": {
      "text/plain": [
       "                              Temp  Pressure  WindSpeed  WindDir\n",
       "City     DateTime                                               \n",
       "Aalborg  1980-03-01 00:00:00   5.0    1008.1       11.3    290.0\n",
       "         1980-03-01 00:20:00   4.0       NaN        9.2    270.0\n",
       "         1980-03-01 00:50:00   4.0       NaN        9.2    280.0\n",
       "         1980-03-01 01:20:00   4.0       NaN        9.2    280.0\n",
       "         1980-03-01 01:50:00   4.0       NaN        8.7    270.0\n",
       "...                            ...       ...        ...      ...\n",
       "Roskilde 2018-03-01 22:20:00  -5.0       NaN        5.1     70.0\n",
       "         2018-03-01 22:50:00  -5.0       NaN        4.1     70.0\n",
       "         2018-03-01 23:00:00  -5.3    1018.6        4.1     60.0\n",
       "         2018-03-01 23:20:00  -5.0       NaN        3.6     60.0\n",
       "         2018-03-01 23:50:00  -5.0       NaN        3.6     60.0\n",
       "\n",
       "[1329749 rows x 4 columns]"
      ],
      "text/html": "<div>\n<style scoped>\n    .dataframe tbody tr th:only-of-type {\n        vertical-align: middle;\n    }\n\n    .dataframe tbody tr th {\n        vertical-align: top;\n    }\n\n    .dataframe thead th {\n        text-align: right;\n    }\n</style>\n<table border=\"1\" class=\"dataframe\">\n  <thead>\n    <tr style=\"text-align: right;\">\n      <th></th>\n      <th></th>\n      <th>Temp</th>\n      <th>Pressure</th>\n      <th>WindSpeed</th>\n      <th>WindDir</th>\n    </tr>\n    <tr>\n      <th>City</th>\n      <th>DateTime</th>\n      <th></th>\n      <th></th>\n      <th></th>\n      <th></th>\n    </tr>\n  </thead>\n  <tbody>\n    <tr>\n      <th rowspan=\"5\" valign=\"top\">Aalborg</th>\n      <th>1980-03-01 00:00:00</th>\n      <td>5.0</td>\n      <td>1008.1</td>\n      <td>11.3</td>\n      <td>290.0</td>\n    </tr>\n    <tr>\n      <th>1980-03-01 00:20:00</th>\n      <td>4.0</td>\n      <td>NaN</td>\n      <td>9.2</td>\n      <td>270.0</td>\n    </tr>\n    <tr>\n      <th>1980-03-01 00:50:00</th>\n      <td>4.0</td>\n      <td>NaN</td>\n      <td>9.2</td>\n      <td>280.0</td>\n    </tr>\n    <tr>\n      <th>1980-03-01 01:20:00</th>\n      <td>4.0</td>\n      <td>NaN</td>\n      <td>9.2</td>\n      <td>280.0</td>\n    </tr>\n    <tr>\n      <th>1980-03-01 01:50:00</th>\n      <td>4.0</td>\n      <td>NaN</td>\n      <td>8.7</td>\n      <td>270.0</td>\n    </tr>\n    <tr>\n      <th>...</th>\n      <th>...</th>\n      <td>...</td>\n      <td>...</td>\n      <td>...</td>\n      <td>...</td>\n    </tr>\n    <tr>\n      <th rowspan=\"5\" valign=\"top\">Roskilde</th>\n      <th>2018-03-01 22:20:00</th>\n      <td>-5.0</td>\n      <td>NaN</td>\n      <td>5.1</td>\n      <td>70.0</td>\n    </tr>\n    <tr>\n      <th>2018-03-01 22:50:00</th>\n      <td>-5.0</td>\n      <td>NaN</td>\n      <td>4.1</td>\n      <td>70.0</td>\n    </tr>\n    <tr>\n      <th>2018-03-01 23:00:00</th>\n      <td>-5.3</td>\n      <td>1018.6</td>\n      <td>4.1</td>\n      <td>60.0</td>\n    </tr>\n    <tr>\n      <th>2018-03-01 23:20:00</th>\n      <td>-5.0</td>\n      <td>NaN</td>\n      <td>3.6</td>\n      <td>60.0</td>\n    </tr>\n    <tr>\n      <th>2018-03-01 23:50:00</th>\n      <td>-5.0</td>\n      <td>NaN</td>\n      <td>3.6</td>\n      <td>60.0</td>\n    </tr>\n  </tbody>\n</table>\n<p>1329749 rows × 4 columns</p>\n</div>"
     },
     "metadata": {},
     "execution_count": 53
    }
   ],
   "source": [
    "### TODO\n",
    "df.columns\n",
    "df.loc[['Aalborg', 'Roskilde']]\n"
   ]
  },
  {
   "source": [
    "## 2.2 - Interacting with a server to query a subset of some data bank\n",
    "\n",
    "'''We will now learn how to query a data bank to retrieve only the relevant proportion data for a task. We will be using the World Bank Data API to access World's renewable energy consumtpion data. '''\n",
    "\n",
    "\n"
   ],
   "cell_type": "code",
   "metadata": {
    "id": "ZYcAldYgeOmq"
   },
   "execution_count": 56,
   "outputs": [
    {
     "output_type": "execute_result",
     "data": {
      "text/plain": [
       "\"We will now learn how to query a data bank to retrieve only the relevant proportion data for a task. We will be using the World Bank Data API to access World's renewable energy consumtpion data. \""
      ]
     },
     "metadata": {},
     "execution_count": 56
    }
   ]
  },
  {
   "cell_type": "markdown",
   "metadata": {
    "id": "Pz0G-PnEllEE"
   },
   "source": [
    "You first need to install the World Bank API. In a terminal, run the following command:\n",
    "\n",
    "``>> pip install wbdata``\n",
    "\n"
   ]
  },
  {
   "cell_type": "code",
   "execution_count": 58,
   "metadata": {
    "colab": {
     "base_uri": "https://localhost:8080/",
     "height": 230
    },
    "executionInfo": {
     "elapsed": 5409,
     "status": "ok",
     "timestamp": 1603899607656,
     "user": {
      "displayName": "Sephora Madjiheurem",
      "photoUrl": "https://lh3.googleusercontent.com/a-/AOh14GgieP2Hh5x42748iuuSEnAl8BYCWGSmOzJ-ypgSaQ=s64",
      "userId": "05055971560005673839"
     },
     "user_tz": 0
    },
    "id": "pKP6WMKA3YTH",
    "outputId": "b822a83a-4f1f-4ef3-88e6-ada5dc8e99a5"
   },
   "outputs": [
    {
     "output_type": "stream",
     "name": "stdout",
     "text": [
      "Requirement already satisfied: wbdata in /Library/Frameworks/Python.framework/Versions/3.9/lib/python3.9/site-packages (0.3.0)\n",
      "Requirement already satisfied: appdirs<2.0,>=1.4 in /Library/Frameworks/Python.framework/Versions/3.9/lib/python3.9/site-packages (from wbdata) (1.4.4)\n",
      "Requirement already satisfied: requests>=2.0 in /Library/Frameworks/Python.framework/Versions/3.9/lib/python3.9/site-packages (from wbdata) (2.27.1)\n",
      "Requirement already satisfied: decorator>=4.0 in /Library/Frameworks/Python.framework/Versions/3.9/lib/python3.9/site-packages (from wbdata) (5.1.1)\n",
      "Requirement already satisfied: tabulate>=0.8.5 in /Library/Frameworks/Python.framework/Versions/3.9/lib/python3.9/site-packages (from wbdata) (0.9.0)\n",
      "Requirement already satisfied: charset-normalizer~=2.0.0 in /Library/Frameworks/Python.framework/Versions/3.9/lib/python3.9/site-packages (from requests>=2.0->wbdata) (2.0.10)\n",
      "Requirement already satisfied: urllib3<1.27,>=1.21.1 in /Library/Frameworks/Python.framework/Versions/3.9/lib/python3.9/site-packages (from requests>=2.0->wbdata) (1.26.8)\n",
      "Requirement already satisfied: idna<4,>=2.5 in /Library/Frameworks/Python.framework/Versions/3.9/lib/python3.9/site-packages (from requests>=2.0->wbdata) (3.3)\n",
      "Requirement already satisfied: certifi>=2017.4.17 in /Library/Frameworks/Python.framework/Versions/3.9/lib/python3.9/site-packages (from requests>=2.0->wbdata) (2021.10.8)\n",
      "\n",
      "\u001b[1m[\u001b[0m\u001b[34;49mnotice\u001b[0m\u001b[1;39;49m]\u001b[0m\u001b[39;49m A new release of pip available: \u001b[0m\u001b[31;49m22.2.2\u001b[0m\u001b[39;49m -> \u001b[0m\u001b[32;49m22.3\u001b[0m\n",
      "\u001b[1m[\u001b[0m\u001b[34;49mnotice\u001b[0m\u001b[1;39;49m]\u001b[0m\u001b[39;49m To update, run: \u001b[0m\u001b[32;49m/usr/local/bin/python3 -m pip install --upgrade pip\u001b[0m\n",
      "Note: you may need to restart the kernel to use updated packages.\n"
     ]
    }
   ],
   "source": [
    "%pip install wbdata"
   ]
  },
  {
   "cell_type": "code",
   "execution_count": 61,
   "metadata": {
    "cellView": "form",
    "executionInfo": {
     "elapsed": 496,
     "status": "ok",
     "timestamp": 1603899609741,
     "user": {
      "displayName": "Sephora Madjiheurem",
      "photoUrl": "https://lh3.googleusercontent.com/a-/AOh14GgieP2Hh5x42748iuuSEnAl8BYCWGSmOzJ-ypgSaQ=s64",
      "userId": "05055971560005673839"
     },
     "user_tz": 0
    },
    "id": "TpOO5F8YkxyR"
   },
   "outputs": [],
   "source": [
    "#@title Imports\n",
    "import wbdata as wb\n",
    "import datetime"
   ]
  },
  {
   "cell_type": "markdown",
   "metadata": {
    "id": "7OJzq_rWmGa-"
   },
   "source": [
    "### - Query the World Bank\n",
    "\n",
    "* **_[TO DO]_**: Use the wbdata to retrieve renewable energy consumption data of all countries in 2015.\n",
    "\n",
    "Hint: [wbdata documentation](https://wbdata.readthedocs.io/en/stable/)"
   ]
  },
  {
   "cell_type": "code",
   "execution_count": 92,
   "metadata": {
    "id": "RXwfBzicmFO3"
   },
   "outputs": [
    {
     "output_type": "execute_result",
     "data": {
      "text/plain": [
       "lue': 'St. Martin (French part)'},\n",
       "  'countryiso3code': '',\n",
       "  'date': '2016',\n",
       "  'value': None,\n",
       "  'unit': '',\n",
       "  'obs_status': '',\n",
       "  'decimal': 2},\n",
       " {'indicator': {'id': '2.1_SHARE.TOTAL.RE.IN.TFEC',\n",
       "   'value': 'Renewable energy share of TFEC (%)'},\n",
       "  'country': {'id': 'MAF', 'value': 'St. Martin (French part)'},\n",
       "  'countryiso3code': '',\n",
       "  'date': '2015',\n",
       "  'value': None,\n",
       "  'unit': '',\n",
       "  'obs_status': '',\n",
       "  'decimal': 2},\n",
       " {'indicator': {'id': '2.1_SHARE.TOTAL.RE.IN.TFEC',\n",
       "   'value': 'Renewable energy share of TFEC (%)'},\n",
       "  'country': {'id': 'VCT', 'value': 'St. Vincent and the Grenadines'},\n",
       "  'countryiso3code': '',\n",
       "  'date': '2016',\n",
       "  'value': None,\n",
       "  'unit': '',\n",
       "  'obs_status': '',\n",
       "  'decimal': 2},\n",
       " {'indicator': {'id': '2.1_SHARE.TOTAL.RE.IN.TFEC',\n",
       "   'value': 'Renewable energy share of TFEC (%)'},\n",
       "  'country': {'id': 'VCT', 'value': 'St. Vincent and the Grenadines'},\n",
       "  'countryiso3code': '',\n",
       "  'date': '2015',\n",
       "  'value': 5.80743339677968,\n",
       "  'unit': '',\n",
       "  'obs_status': '',\n",
       "  'decimal': 2},\n",
       " {'indicator': {'id': '2.1_SHARE.TOTAL.RE.IN.TFEC',\n",
       "   'value': 'Renewable energy share of TFEC (%)'},\n",
       "  'country': {'id': 'SDN', 'value': 'Sudan'},\n",
       "  'countryiso3code': '',\n",
       "  'date': '2016',\n",
       "  'value': None,\n",
       "  'unit': '',\n",
       "  'obs_status': '',\n",
       "  'decimal': 2},\n",
       " {'indicator': {'id': '2.1_SHARE.TOTAL.RE.IN.TFEC',\n",
       "   'value': 'Renewable energy share of TFEC (%)'},\n",
       "  'country': {'id': 'SDN', 'value': 'Sudan'},\n",
       "  'countryiso3code': '',\n",
       "  'date': '2015',\n",
       "  'value': 61.5967474758976,\n",
       "  'unit': '',\n",
       "  'obs_status': '',\n",
       "  'decimal': 2},\n",
       " {'indicator': {'id': '2.1_SHARE.TOTAL.RE.IN.TFEC',\n",
       "   'value': 'Renewable energy share of TFEC (%)'},\n",
       "  'country': {'id': 'SUR', 'value': 'Suriname'},\n",
       "  'countryiso3code': '',\n",
       "  'date': '2016',\n",
       "  'value': None,\n",
       "  'unit': '',\n",
       "  'obs_status': '',\n",
       "  'decimal': 2},\n",
       " {'indicator': {'id': '2.1_SHARE.TOTAL.RE.IN.TFEC',\n",
       "   'value': 'Renewable energy share of TFEC (%)'},\n",
       "  'country': {'id': 'SUR', 'value': 'Suriname'},\n",
       "  'countryiso3code': '',\n",
       "  'date': '2015',\n",
       "  'value': 24.9131103610308,\n",
       "  'unit': '',\n",
       "  'obs_status': '',\n",
       "  'decimal': 2},\n",
       " {'indicator': {'id': '2.1_SHARE.TOTAL.RE.IN.TFEC',\n",
       "   'value': 'Renewable energy share of TFEC (%)'},\n",
       "  'country': {'id': 'SWZ', 'value': 'Swaziland'},\n",
       "  'countryiso3code': '',\n",
       "  'date': '2016',\n",
       "  'value': None,\n",
       "  'unit': '',\n",
       "  'obs_status': '',\n",
       "  'decimal': 2},\n",
       " {'indicator': {'id': '2.1_SHARE.TOTAL.RE.IN.TFEC',\n",
       "   'value': 'Renewable energy share of TFEC (%)'},\n",
       "  'country': {'id': 'SWZ', 'value': 'Swaziland'},\n",
       "  'countryiso3code': '',\n",
       "  'date': '2015',\n",
       "  'value': 66.1046592063012,\n",
       "  'unit': '',\n",
       "  'obs_status': '',\n",
       "  'decimal': 2},\n",
       " {'indicator': {'id': '2.1_SHARE.TOTAL.RE.IN.TFEC',\n",
       "   'value': 'Renewable energy share of TFEC (%)'},\n",
       "  'country': {'id': 'SWE', 'value': 'Sweden'},\n",
       "  'countryiso3code': '',\n",
       "  'date': '2016',\n",
       "  'value': None,\n",
       "  'unit': '',\n",
       "  'obs_status': '',\n",
       "  'decimal': 2},\n",
       " {'indicator': {'id': '2.1_SHARE.TOTAL.RE.IN.TFEC',\n",
       "   'value': 'Renewable energy share of TFEC (%)'},\n",
       "  'country': {'id': 'SWE', 'value': 'Sweden'},\n",
       "  'countryiso3code': '',\n",
       "  'date': '2015',\n",
       "  'value': 53.2477697984376,\n",
       "  'unit': '',\n",
       "  'obs_status': '',\n",
       "  'decimal': 2},\n",
       " {'indicator': {'id': '2.1_SHARE.TOTAL.RE.IN.TFEC',\n",
       "   'value': 'Renewable energy share of TFEC (%)'},\n",
       "  'country': {'id': 'CHE', 'value': 'Switzerland'},\n",
       "  'countryiso3code': '',\n",
       "  'date': '2016',\n",
       "  'value': None,\n",
       "  'unit': '',\n",
       "  'obs_status': '',\n",
       "  'decimal': 2},\n",
       " {'indicator': {'id': '2.1_SHARE.TOTAL.RE.IN.TFEC',\n",
       "   'value': 'Renewable energy share of TFEC (%)'},\n",
       "  'country': {'id': 'CHE', 'value': 'Switzerland'},\n",
       "  'countryiso3code': '',\n",
       "  'date': '2015',\n",
       "  'value': 25.2919836825127,\n",
       "  'unit': '',\n",
       "  'obs_status': '',\n",
       "  'decimal': 2},\n",
       " {'indicator': {'id': '2.1_SHARE.TOTAL.RE.IN.TFEC',\n",
       "   'value': 'Renewable energy share of TFEC (%)'},\n",
       "  'country': {'id': 'SYR', 'value': 'Syrian Arab Republic'},\n",
       "  'countryiso3code': '',\n",
       "  'date': '2016',\n",
       "  'value': None,\n",
       "  'unit': '',\n",
       "  'obs_status': '',\n",
       "  'decimal': 2},\n",
       " {'indicator': {'id': '2.1_SHARE.TOTAL.RE.IN.TFEC',\n",
       "   'value': 'Renewable energy share of TFEC (%)'},\n",
       "  'country': {'id': 'SYR', 'value': 'Syrian Arab Republic'},\n",
       "  'countryiso3code': '',\n",
       "  'date': '2015',\n",
       "  'value': 0.52115517170161,\n",
       "  'unit': '',\n",
       "  'obs_status': '',\n",
       "  'decimal': 2},\n",
       " {'indicator': {'id': '2.1_SHARE.TOTAL.RE.IN.TFEC',\n",
       "   'value': 'Renewable energy share of TFEC (%)'},\n",
       "  'country': {'id': 'TWN', 'value': 'Taiwan, China'},\n",
       "  'countryiso3code': '',\n",
       "  'date': '2016',\n",
       "  'value': None,\n",
       "  'unit': '',\n",
       "  'obs_status': '',\n",
       "  'decimal': 2},\n",
       " {'indicator': {'id': '2.1_SHARE.TOTAL.RE.IN.TFEC',\n",
       "   'value': 'Renewable energy share of TFEC (%)'},\n",
       "  'country': {'id': 'TWN', 'value': 'Taiwan, China'},\n",
       "  'countryiso3code': '',\n",
       "  'date': '2015',\n",
       "  'value': 2.11532023769111,\n",
       "  'unit': '',\n",
       "  'obs_status': '',\n",
       "  'decimal': 2},\n",
       " {'indicator': {'id': '2.1_SHARE.TOTAL.RE.IN.TFEC',\n",
       "   'value': 'Renewable energy share of TFEC (%)'},\n",
       "  'country': {'id': 'TJK', 'value': 'Tajikistan'},\n",
       "  'countryiso3code': '',\n",
       "  'date': '2016',\n",
       "  'value': None,\n",
       "  'unit': '',\n",
       "  'obs_status': '',\n",
       "  'decimal': 2},\n",
       " {'indicator': {'id': '2.1_SHARE.TOTAL.RE.IN.TFEC',\n",
       "   'value': 'Renewable energy share of TFEC (%)'},\n",
       "  'country': {'id': 'TJK', 'value': 'Tajikistan'},\n",
       "  'countryiso3code': '',\n",
       "  'date': '2015',\n",
       "  'value': 44.6592039196129,\n",
       "  'unit': '',\n",
       "  'obs_status': '',\n",
       "  'decimal': 2},\n",
       " {'indicator': {'id': '2.1_SHARE.TOTAL.RE.IN.TFEC',\n",
       "   'value': 'Renewable energy share of TFEC (%)'},\n",
       "  'country': {'id': 'TZA', 'value': 'Tanzania'},\n",
       "  'countryiso3code': '',\n",
       "  'date': '2016',\n",
       "  'value': None,\n",
       "  'unit': '',\n",
       "  'obs_status': '',\n",
       "  'decimal': 2},\n",
       " {'indicator': {'id': '2.1_SHARE.TOTAL.RE.IN.TFEC',\n",
       "   'value': 'Renewable energy share of TFEC (%)'},\n",
       "  'country': {'id': 'TZA', 'value': 'Tanzania'},\n",
       "  'countryiso3code': '',\n",
       "  'date': '2015',\n",
       "  'value': 85.7130419384343,\n",
       "  'unit': '',\n",
       "  'obs_status': '',\n",
       "  'decimal': 2},\n",
       " {'indicator': {'id': '2.1_SHARE.TOTAL.RE.IN.TFEC',\n",
       "   'value': 'Renewable energy share of TFEC (%)'},\n",
       "  'country': {'id': 'THA', 'value': 'Thailand'},\n",
       "  'countryiso3code': '',\n",
       "  'date': '2016',\n",
       "  'value': None,\n",
       "  'unit': '',\n",
       "  'obs_status': '',\n",
       "  'decimal': 2},\n",
       " {'indicator': {'id': '2.1_SHARE.TOTAL.RE.IN.TFEC',\n",
       "   'value': 'Renewable energy share of TFEC (%)'},\n",
       "  'country': {'id': 'THA', 'value': 'Thailand'},\n",
       "  'countryiso3code': '',\n",
       "  'date': '2015',\n",
       "  'value': 22.8630701280756,\n",
       "  'unit': '',\n",
       "  'obs_status': '',\n",
       "  'decimal': 2},\n",
       " {'indicator': {'id': '2.1_SHARE.TOTAL.RE.IN.TFEC',\n",
       "   'value': 'Renewable energy share of TFEC (%)'},\n",
       "  'country': {'id': 'TLS', 'value': 'Timor-Leste'},\n",
       "  'countryiso3code': '',\n",
       "  'date': '2016',\n",
       "  'value': None,\n",
       "  'unit': '',\n",
       "  'obs_status': '',\n",
       "  'decimal': 2},\n",
       " {'indicator': {'id': '2.1_SHARE.TOTAL.RE.IN.TFEC',\n",
       "   'value': 'Renewable energy share of TFEC (%)'},\n",
       "  'country': {'id': 'TLS', 'value': 'Timor-Leste'},\n",
       "  'countryiso3code': '',\n",
       "  'date': '2015',\n",
       "  'value': 18.2236892844473,\n",
       "  'unit': '',\n",
       "  'obs_status': '',\n",
       "  'decimal': 2},\n",
       " {'indicator': {'id': '2.1_SHARE.TOTAL.RE.IN.TFEC',\n",
       "   'value': 'Renewable energy share of TFEC (%)'},\n",
       "  'country': {'id': 'TGO', 'value': 'Togo'},\n",
       "  'countryiso3code': '',\n",
       "  'date': '2016',\n",
       "  'value': None,\n",
       "  'unit': '',\n",
       "  'obs_status': '',\n",
       "  'decimal': 2},\n",
       " {'indicator': {'id': '2.1_SHARE.TOTAL.RE.IN.TFEC',\n",
       "   'value': 'Renewable energy share of TFEC (%)'},\n",
       "  'country': {'id': 'TGO', 'value': 'Togo'},\n",
       "  'countryiso3code': '',\n",
       "  'date': '2015',\n",
       "  'value': 71.2646671412409,\n",
       "  'unit': '',\n",
       "  'obs_status': '',\n",
       "  'decimal': 2},\n",
       " {'indicator': {'id': '2.1_SHARE.TOTAL.RE.IN.TFEC',\n",
       "   'value': 'Renewable energy share of TFEC (%)'},\n",
       "  'country': {'id': 'TON', 'value': 'Tonga'},\n",
       "  'countryiso3code': '',\n",
       "  'date': '2016',\n",
       "  'value': None,\n",
       "  'unit': '',\n",
       "  'obs_status': '',\n",
       "  'decimal': 2},\n",
       " {'indicator': {'id': '2.1_SHARE.TOTAL.RE.IN.TFEC',\n",
       "   'value': 'Renewable energy share of TFEC (%)'},\n",
       "  'country': {'id': 'TON', 'value': 'Tonga'},\n",
       "  'countryiso3code': '',\n",
       "  'date': '2015',\n",
       "  'value': 1.87975158224647,\n",
       "  'unit': '',\n",
       "  'obs_status': '',\n",
       "  'decimal': 2},\n",
       " {'indicator': {'id': '2.1_SHARE.TOTAL.RE.IN.TFEC',\n",
       "   'value': 'Renewable energy share of TFEC (%)'},\n",
       "  'country': {'id': 'TTO', 'value': 'Trinidad and Tobago'},\n",
       "  'countryiso3code': '',\n",
       "  'date': '2016',\n",
       "  'value': None,\n",
       "  'unit': '',\n",
       "  'obs_status': '',\n",
       "  'decimal': 2},\n",
       " {'indicator': {'id': '2.1_SHARE.TOTAL.RE.IN.TFEC',\n",
       "   'value': 'Renewable energy share of TFEC (%)'},\n",
       "  'country': {'id': 'TTO', 'value': 'Trinidad and Tobago'},\n",
       "  'countryiso3code': '',\n",
       "  'date': '2015',\n",
       "  'value': 0.284205763881456,\n",
       "  'unit': '',\n",
       "  'obs_status': '',\n",
       "  'decimal': 2},\n",
       " {'indicator': {'id': '2.1_SHARE.TOTAL.RE.IN.TFEC',\n",
       "   'value': 'Renewable energy share of TFEC (%)'},\n",
       "  'country': {'id': 'TUN', 'value': 'Tunisia'},\n",
       "  'countryiso3code': '',\n",
       "  'date': '2016',\n",
       "  'value': None,\n",
       "  'unit': '',\n",
       "  'obs_status': '',\n",
       "  'decimal': 2},\n",
       " {'indicator': {'id': '2.1_SHARE.TOTAL.RE.IN.TFEC',\n",
       "   'value': 'Renewable energy share of TFEC (%)'},\n",
       "  'country': {'id': 'TUN', 'value': 'Tunisia'},\n",
       "  'countryiso3code': '',\n",
       "  'date': '2015',\n",
       "  'value': 12.5623503533853,\n",
       "  'unit': '',\n",
       "  'obs_status': '',\n",
       "  'decimal': 2},\n",
       " {'indicator': {'id': '2.1_SHARE.TOTAL.RE.IN.TFEC',\n",
       "   'value': 'Renewable energy share of TFEC (%)'},\n",
       "  'country': {'id': 'TUR', 'value': 'Turkey'},\n",
       "  'countryiso3code': '',\n",
       "  'date': '2016',\n",
       "  'value': None,\n",
       "  'unit': '',\n",
       "  'obs_status': '',\n",
       "  'decimal': 2},\n",
       " {'indicator': {'id': '2.1_SHARE.TOTAL.RE.IN.TFEC',\n",
       "   'value': 'Renewable energy share of TFEC (%)'},\n",
       "  'country': {'id': 'TUR', 'value': 'Turkey'},\n",
       "  'countryiso3code': '',\n",
       "  'date': '2015',\n",
       "  'value': 13.3742300375217,\n",
       "  'unit': '',\n",
       "  'obs_status': '',\n",
       "  'decimal': 2},\n",
       " {'indicator': {'id': '2.1_SHARE.TOTAL.RE.IN.TFEC',\n",
       "   'value': 'Renewable energy share of TFEC (%)'},\n",
       "  'country': {'id': 'TKM', 'value': 'Turkmenistan'},\n",
       "  'countryiso3code': '',\n",
       "  'date': '2016',\n",
       "  'value': None,\n",
       "  'unit': '',\n",
       "  'obs_status': '',\n",
       "  'decimal': 2},\n",
       " {'indicator': {'id': '2.1_SHARE.TOTAL.RE.IN.TFEC',\n",
       "   'value': 'Renewable energy share of TFEC (%)'},\n",
       "  'country': {'id': 'TKM', 'value': 'Turkmenistan'},\n",
       "  'countryiso3code': '',\n",
       "  'date': '2015',\n",
       "  'value': 0.0408878864181804,\n",
       "  'unit': '',\n",
       "  'obs_status': '',\n",
       "  'decimal': 2},\n",
       " {'indicator': {'id': '2.1_SHARE.TOTAL.RE.IN.TFEC',\n",
       "   'value': 'Renewable energy share of TFEC (%)'},\n",
       "  'country': {'id': 'TCA', 'value': 'Turks and Caicos Islands'},\n",
       "  'countryiso3code': '',\n",
       "  'date': '2016',\n",
       "  'value': None,\n",
       "  'unit': '',\n",
       "  'obs_status': '',\n",
       "  'decimal': 2},\n",
       " {'indicator': {'id': '2.1_SHARE.TOTAL.RE.IN.TFEC',\n",
       "   'value': 'Renewable energy share of TFEC (%)'},\n",
       "  'country': {'id': 'TCA', 'value': 'Turks and Caicos Islands'},\n",
       "  'countryiso3code': '',\n",
       "  'date': '2015',\n",
       "  'value': 0.572166001038355,\n",
       "  'unit': '',\n",
       "  'obs_status': '',\n",
       "  'decimal': 2},\n",
       " {'indicator': {'id': '2.1_SHARE.TOTAL.RE.IN.TFEC',\n",
       "   'value': 'Renewable energy share of TFEC (%)'},\n",
       "  'country': {'id': 'TUV', 'value': 'Tuvalu'},\n",
       "  'countryiso3code': '',\n",
       "  'date': '2016',\n",
       "  'value': None,\n",
       "  'unit': '',\n",
       "  'obs_status': '',\n",
       "  'decimal': 2},\n",
       " {'indicator': {'id': '2.1_SHARE.TOTAL.RE.IN.TFEC',\n",
       "   'value': 'Renewable energy share of TFEC (%)'},\n",
       "  'country': {'id': 'TUV', 'value': 'Tuvalu'},\n",
       "  'countryiso3code': '',\n",
       "  'date': '2015',\n",
       "  'value': 0,\n",
       "  'unit': '',\n",
       "  'obs_status': '',\n",
       "  'decimal': 2},\n",
       " {'indicator': {'id': '2.1_SHARE.TOTAL.RE.IN.TFEC',\n",
       "   'value': 'Renewable energy share of TFEC (%)'},\n",
       "  'country': {'id': 'UGA', 'value': 'Uganda'},\n",
       "  'countryiso3code': '',\n",
       "  'date': '2016',\n",
       "  'value': None,\n",
       "  'unit': '',\n",
       "  'obs_status': '',\n",
       "  'decimal': 2},\n",
       " {'indicator': {'id': '2.1_SHARE.TOTAL.RE.IN.TFEC',\n",
       "   'value': 'Renewable energy share of TFEC (%)'},\n",
       "  'country': {'id': 'UGA', 'value': 'Uganda'},\n",
       "  'countryiso3code': '',\n",
       "  'date': '2015',\n",
       "  'value': 89.0579489792097,\n",
       "  'unit': '',\n",
       "  'obs_status': '',\n",
       "  'decimal': 2},\n",
       " {'indicator': {'id': '2.1_SHARE.TOTAL.RE.IN.TFEC',\n",
       "   'value': 'Renewable energy share of TFEC (%)'},\n",
       "  'country': {'id': 'UKR', 'value': 'Ukraine'},\n",
       "  'countryiso3code': '',\n",
       "  'date': '2016',\n",
       "  'value': None,\n",
       "  'unit': '',\n",
       "  'obs_status': '',\n",
       "  'decimal': 2},\n",
       " {'indicator': {'id': '2.1_SHARE.TOTAL.RE.IN.TFEC',\n",
       "   'value': 'Renewable energy share of TFEC (%)'},\n",
       "  'country': {'id': 'UKR', 'value': 'Ukraine'},\n",
       "  'countryiso3code': '',\n",
       "  'date': '2015',\n",
       "  'value': 4.14431803937237,\n",
       "  'unit': '',\n",
       "  'obs_status': '',\n",
       "  'decimal': 2},\n",
       " {'indicator': {'id': '2.1_SHARE.TOTAL.RE.IN.TFEC',\n",
       "   'value': 'Renewable energy share of TFEC (%)'},\n",
       "  'country': {'id': 'ARE', 'value': 'United Arab Emirates'},\n",
       "  'countryiso3code': '',\n",
       "  'date': '2016',\n",
       "  'value': None,\n",
       "  'unit': '',\n",
       "  'obs_status': '',\n",
       "  'decimal': 2},\n",
       " {'indicator': {'id': '2.1_SHARE.TOTAL.RE.IN.TFEC',\n",
       "   'value': 'Renewable energy share of TFEC (%)'},\n",
       "  'country': {'id': 'ARE', 'value': 'United Arab Emirates'},\n",
       "  'countryiso3code': '',\n",
       "  'date': '2015',\n",
       "  'value': 0.137108046073838,\n",
       "  'unit': '',\n",
       "  'obs_status': '',\n",
       "  'decimal': 2},\n",
       " {'indicator': {'id': '2.1_SHARE.TOTAL.RE.IN.TFEC',\n",
       "   'value': 'Renewable energy share of TFEC (%)'},\n",
       "  'country': {'id': 'GBR', 'value': 'United Kingdom'},\n",
       "  'countryiso3code': '',\n",
       "  'date': '2016',\n",
       "  'value': None,\n",
       "  'unit': '',\n",
       "  'obs_status': '',\n",
       "  'decimal': 2},\n",
       " {'indicator': {'id': '2.1_SHARE.TOTAL.RE.IN.TFEC',\n",
       "   'value': 'Renewable energy share of TFEC (%)'},\n",
       "  'country': {'id': 'GBR', 'value': 'United Kingdom'},\n",
       "  'countryiso3code': '',\n",
       "  'date': '2015',\n",
       "  'value': 8.71168557437913,\n",
       "  'unit': '',\n",
       "  'obs_status': '',\n",
       "  'decimal': 2},\n",
       " {'indicator': {'id': '2.1_SHARE.TOTAL.RE.IN.TFEC',\n",
       "   'value': 'Renewable energy share of TFEC (%)'},\n",
       "  'country': {'id': 'USA', 'value': 'United States'},\n",
       "  'countryiso3code': '',\n",
       "  'date': '2016',\n",
       "  'value': None,\n",
       "  'unit': '',\n",
       "  'obs_status': '',\n",
       "  'decimal': 2},\n",
       " {'indicator': {'id': '2.1_SHARE.TOTAL.RE.IN.TFEC',\n",
       "   'value': 'Renewable energy share of TFEC (%)'},\n",
       "  'country': {'id': 'USA', 'value': 'United States'},\n",
       "  'countryiso3code': '',\n",
       "  'date': '2015',\n",
       "  'value': 8.71693586705814,\n",
       "  'unit': '',\n",
       "  'obs_status': '',\n",
       "  'decimal': 2},\n",
       " {'indicator': {'id': '2.1_SHARE.TOTAL.RE.IN.TFEC',\n",
       "   'value': 'Renewable energy share of TFEC (%)'},\n",
       "  'country': {'id': 'URY', 'value': 'Uruguay'},\n",
       "  'countryiso3code': '',\n",
       "  'date': '2016',\n",
       "  'value': None,\n",
       "  'unit': '',\n",
       "  'obs_status': '',\n",
       "  'decimal': 2},\n",
       " {'indicator': {'id': '2.1_SHARE.TOTAL.RE.IN.TFEC',\n",
       "   'value': 'Renewable energy share of TFEC (%)'},\n",
       "  'country': {'id': 'URY', 'value': 'Uruguay'},\n",
       "  'countryiso3code': '',\n",
       "  'date': '2015',\n",
       "  'value': 58.0220411778528,\n",
       "  'unit': '',\n",
       "  'obs_status': '',\n",
       "  'decimal': 2},\n",
       " {'indicator': {'id': '2.1_SHARE.TOTAL.RE.IN.TFEC',\n",
       "   'value': 'Renewable energy share of TFEC (%)'},\n",
       "  'country': {'id': 'UZB', 'value': 'Uzbekistan'},\n",
       "  'countryiso3code': '',\n",
       "  'date': '2016',\n",
       "  'value': None,\n",
       "  'unit': '',\n",
       "  'obs_status': '',\n",
       "  'decimal': 2},\n",
       " {'indicator': {'id': '2.1_SHARE.TOTAL.RE.IN.TFEC',\n",
       "   'value': 'Renewable energy share of TFEC (%)'},\n",
       "  'country': {'id': 'UZB', 'value': 'Uzbekistan'},\n",
       "  'countryiso3code': '',\n",
       "  'date': '2015',\n",
       "  'value': 2.97017869966095,\n",
       "  'unit': '',\n",
       "  'obs_status': '',\n",
       "  'decimal': 2},\n",
       " {'indicator': {'id': '2.1_SHARE.TOTAL.RE.IN.TFEC',\n",
       "   'value': 'Renewable energy share of TFEC (%)'},\n",
       "  'country': {'id': 'VUT', 'value': 'Vanuatu'},\n",
       "  'countryiso3code': '',\n",
       "  'date': '2016',\n",
       "  'value': None,\n",
       "  'unit': '',\n",
       "  'obs_status': '',\n",
       "  'decimal': 2},\n",
       " {'indicator': {'id': '2.1_SHARE.TOTAL.RE.IN.TFEC',\n",
       "   'value': 'Renewable energy share of TFEC (%)'},\n",
       "  'country': {'id': 'VUT', 'value': 'Vanuatu'},\n",
       "  'countryiso3code': '',\n",
       "  'date': '2015',\n",
       "  'value': 36.111064596662,\n",
       "  'unit': '',\n",
       "  'obs_status': '',\n",
       "  'decimal': 2},\n",
       " {'indicator': {'id': '2.1_SHARE.TOTAL.RE.IN.TFEC',\n",
       "   'value': 'Renewable energy share of TFEC (%)'},\n",
       "  'country': {'id': 'VEN', 'value': 'Venezuela, RB'},\n",
       "  'countryiso3code': '',\n",
       "  'date': '2016',\n",
       "  'value': None,\n",
       "  'unit': '',\n",
       "  'obs_status': '',\n",
       "  'decimal': 2},\n",
       " {'indicator': {'id': '2.1_SHARE.TOTAL.RE.IN.TFEC',\n",
       "   'value': 'Renewable energy share of TFEC (%)'},\n",
       "  'country': {'id': 'VEN', 'value': 'Venezuela, RB'},\n",
       "  'countryiso3code': '',\n",
       "  'date': '2015',\n",
       "  'value': 12.8415785518796,\n",
       "  'unit': '',\n",
       "  'obs_status': '',\n",
       "  'decimal': 2},\n",
       " {'indicator': {'id': '2.1_SHARE.TOTAL.RE.IN.TFEC',\n",
       "   'value': 'Renewable energy share of TFEC (%)'},\n",
       "  'country': {'id': 'VNM', 'value': 'Vietnam'},\n",
       "  'countryiso3code': '',\n",
       "  'date': '2016',\n",
       "  'value': None,\n",
       "  'unit': '',\n",
       "  'obs_status': '',\n",
       "  'decimal': 2},\n",
       " {'indicator': {'id': '2.1_SHARE.TOTAL.RE.IN.TFEC',\n",
       "   'value': 'Renewable energy share of TFEC (%)'},\n",
       "  'country': {'id': 'VNM', 'value': 'Vietnam'},\n",
       "  'countryiso3code': '',\n",
       "  'date': '2015',\n",
       "  'value': 34.9985698382085,\n",
       "  'unit': '',\n",
       "  'obs_status': '',\n",
       "  'decimal': 2},\n",
       " {'indicator': {'id': '2.1_SHARE.TOTAL.RE.IN.TFEC',\n",
       "   'value': 'Renewable energy share of TFEC (%)'},\n",
       "  'country': {'id': 'VIR', 'value': 'Virgin Islands (U.S.)'},\n",
       "  'countryiso3code': '',\n",
       "  'date': '2016',\n",
       "  'value': None,\n",
       "  'unit': '',\n",
       "  'obs_status': '',\n",
       "  'decimal': 2},\n",
       " {'indicator': {'id': '2.1_SHARE.TOTAL.RE.IN.TFEC',\n",
       "   'value': 'Renewable energy share of TFEC (%)'},\n",
       "  'country': {'id': 'VIR', 'value': 'Virgin Islands (U.S.)'},\n",
       "  'countryiso3code': '',\n",
       "  'date': '2015',\n",
       "  'value': 3.87752521400119,\n",
       "  'unit': '',\n",
       "  'obs_status': '',\n",
       "  'decimal': 2},\n",
       " {'indicator': {'id': '2.1_SHARE.TOTAL.RE.IN.TFEC',\n",
       "   'value': 'Renewable energy share of TFEC (%)'},\n",
       "  'country': {'id': 'PSE', 'value': 'West Bank and Gaza'},\n",
       "  'countryiso3code': '',\n",
       "  'date': '2016',\n",
       "  'value': None,\n",
       "  'unit': '',\n",
       "  'obs_status': '',\n",
       "  'decimal': 2},\n",
       " {'indicator': {'id': '2.1_SHARE.TOTAL.RE.IN.TFEC',\n",
       "   'value': 'Renewable energy share of TFEC (%)'},\n",
       "  'country': {'id': 'PSE', 'value': 'West Bank and Gaza'},\n",
       "  'countryiso3code': '',\n",
       "  'date': '2015',\n",
       "  'value': 10.4727149640955,\n",
       "  'unit': '',\n",
       "  'obs_status': '',\n",
       "  'decimal': 2},\n",
       " {'indicator': {'id': '2.1_SHARE.TOTAL.RE.IN.TFEC',\n",
       "   'value': 'Renewable energy share of TFEC (%)'},\n",
       "  'country': {'id': 'ESH', 'value': 'Western Sahara'},\n",
       "  'countryiso3code': '',\n",
       "  'date': '2016',\n",
       "  'value': None,\n",
       "  'unit': '',\n",
       "  'obs_status': '',\n",
       "  'decimal': 2},\n",
       " {'indicator': {'id': '2.1_SHARE.TOTAL.RE.IN.TFEC',\n",
       "   'value': 'Renewable energy share of TFEC (%)'},\n",
       "  'country': {'id': 'ESH', 'value': 'Western Sahara'},\n",
       "  'countryiso3code': '',\n",
       "  'date': '2015',\n",
       "  'value': None,\n",
       "  'unit': '',\n",
       "  'obs_status': '',\n",
       "  'decimal': 2},\n",
       " {'indicator': {'id': '2.1_SHARE.TOTAL.RE.IN.TFEC',\n",
       "   'value': 'Renewable energy share of TFEC (%)'},\n",
       "  'country': {'id': 'YEM', 'value': 'Yemen, Rep.'},\n",
       "  'countryiso3code': '',\n",
       "  'date': '2016',\n",
       "  'value': None,\n",
       "  'unit': '',\n",
       "  'obs_status': '',\n",
       "  'decimal': 2},\n",
       " {'indicator': {'id': '2.1_SHARE.TOTAL.RE.IN.TFEC',\n",
       "   'value': 'Renewable energy share of TFEC (%)'},\n",
       "  'country': {'id': 'YEM', 'value': 'Yemen, Rep.'},\n",
       "  'countryiso3code': '',\n",
       "  'date': '2015',\n",
       "  'value': 2.27641668698264,\n",
       "  'unit': '',\n",
       "  'obs_status': '',\n",
       "  'decimal': 2},\n",
       " {'indicator': {'id': '2.1_SHARE.TOTAL.RE.IN.TFEC',\n",
       "   'value': 'Renewable energy share of TFEC (%)'},\n",
       "  'country': {'id': 'ZMB', 'value': 'Zambia'},\n",
       "  'countryiso3code': '',\n",
       "  'date': '2016',\n",
       "  'value': None,\n",
       "  'unit': '',\n",
       "  'obs_status': '',\n",
       "  'decimal': 2},\n",
       " {'indicator': {'id': '2.1_SHARE.TOTAL.RE.IN.TFEC',\n",
       "   'value': 'Renewable energy share of TFEC (%)'},\n",
       "  'country': {'id': 'ZMB', 'value': 'Zambia'},\n",
       "  'countryiso3code': '',\n",
       "  'date': '2015',\n",
       "  'value': 87.9854523585353,\n",
       "  'unit': '',\n",
       "  'obs_status': '',\n",
       "  'decimal': 2},\n",
       " {'indicator': {'id': '2.1_SHARE.TOTAL.RE.IN.TFEC',\n",
       "   'value': 'Renewable energy share of TFEC (%)'},\n",
       "  'country': {'id': 'ZWE', 'value': 'Zimbabwe'},\n",
       "  'countryiso3code': '',\n",
       "  'date': '2016',\n",
       "  'value': None,\n",
       "  'unit': '',\n",
       "  'obs_status': '',\n",
       "  'decimal': 2},\n",
       " {'indicator': {'id': '2.1_SHARE.TOTAL.RE.IN.TFEC',\n",
       "   'value': 'Renewable energy share of TFEC (%)'},\n",
       "  'country': {'id': 'ZWE', 'value': 'Zimbabwe'},\n",
       "  'countryiso3code': '',\n",
       "  'date': '2015',\n",
       "  'value': 81.797808552401,\n",
       "  'unit': '',\n",
       "  'obs_status': '',\n",
       "  'decimal': 2}]"
      ]
     },
     "metadata": {},
     "execution_count": 92
    }
   ],
   "source": [
    "wb.search_indicators(\"renewable energy\")\n",
    "wb.get_indicator(\"2.1_SHARE.TOTAL.RE.IN.TFEC\")\n",
    "data_date = datetime.datetime(2015, 1, 1), datetime.datetime(2016, 1, 1) \n",
    "wb.get_data(\"2.1_SHARE.TOTAL.RE.IN.TFEC\", data_date = data_date)\n"
   ]
  },
  {
   "cell_type": "markdown",
   "metadata": {
    "id": "0FB_UE-0nSeX"
   },
   "source": [
    "### - Undestanding the data\n",
    "\n",
    "* **_[TO DO]_**: Display different data points "
   ]
  },
  {
   "cell_type": "code",
   "execution_count": null,
   "metadata": {
    "id": "TLsp11GKn8Ai"
   },
   "outputs": [],
   "source": [
    "### TODO"
   ]
  },
  {
   "cell_type": "markdown",
   "metadata": {
    "id": "o52Lnoq5olC9"
   },
   "source": [
    "### - Exporting the data \n",
    "\n",
    "* **_[TO DO]_**: Save the retrieved renewable energy consumption data of all countries in 2015 in one .xlsx file\n",
    "* **_[TO DO]_**: Save the renewable energy consumption data from 2006 to 2016 for each European country in individual .csv files (one per country)"
   ]
  },
  {
   "cell_type": "code",
   "execution_count": null,
   "metadata": {
    "id": "-k6RXRXBpduC"
   },
   "outputs": [],
   "source": [
    "### TODO"
   ]
  }
 ],
 "metadata": {
  "colab": {
   "collapsed_sections": [],
   "name": "LAB1.ipynb",
   "provenance": [
    {
     "file_id": "1HXjyjuj11ovY200lbVrY4ksJrv4eEphn",
     "timestamp": 1603281631972
    }
   ]
  },
  "kernelspec": {
   "display_name": "Python 3 (ipykernel)",
   "language": "python",
   "name": "python3"
  },
  "language_info": {
   "codemirror_mode": {
    "name": "ipython",
    "version": 3
   },
   "file_extension": ".py",
   "mimetype": "text/x-python",
   "name": "python",
   "nbconvert_exporter": "python",
   "pygments_lexer": "ipython3",
   "version": "3.9.1-final"
  }
 },
 "nbformat": 4,
 "nbformat_minor": 4
}